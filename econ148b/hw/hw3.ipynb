{
 "cells": [
  {
   "cell_type": "markdown",
   "metadata": {},
   "source": [
    "# Q3"
   ]
  },
  {
   "cell_type": "code",
   "execution_count": 1,
   "metadata": {},
   "outputs": [],
   "source": [
    "import pandas as pd\n",
    "import numpy as np"
   ]
  },
  {
   "cell_type": "code",
   "execution_count": 41,
   "metadata": {},
   "outputs": [
    {
     "data": {
      "text/plain": [
       "(10700, 3)"
      ]
     },
     "execution_count": 41,
     "metadata": {},
     "output_type": "execute_result"
    }
   ],
   "source": [
    "df = pd.read_csv(\"../HW3_train.csv\")\n",
    "df = df[['X3', 'X4', 'price']].dropna(subset=['X3', 'X4'])\n",
    "df.shape"
   ]
  },
  {
   "cell_type": "code",
   "execution_count": 42,
   "metadata": {},
   "outputs": [],
   "source": [
    "def relu(x):\n",
    "    return max(0, x)"
   ]
  },
  {
   "cell_type": "code",
   "execution_count": 43,
   "metadata": {},
   "outputs": [],
   "source": [
    "X = df[['X3', 'X4']].values\n",
    "Y = df['price'].values"
   ]
  },
  {
   "cell_type": "code",
   "execution_count": 50,
   "metadata": {},
   "outputs": [],
   "source": [
    "w = np.random.randn(2, 2)   # w_2,j,i\n",
    "v = np.random.randn(2)      # w_1,j"
   ]
  },
  {
   "cell_type": "code",
   "execution_count": 51,
   "metadata": {},
   "outputs": [],
   "source": [
    "lr = 0.01\n",
    "epochs = 100"
   ]
  },
  {
   "cell_type": "code",
   "execution_count": null,
   "metadata": {},
   "outputs": [
    {
     "name": "stdout",
     "output_type": "stream",
     "text": [
      "Epoch 0, Loss: 35934572.1467\n",
      "Epoch 10, Loss: 35459142.4650\n",
      "Epoch 20, Loss: 35459142.4650\n",
      "Epoch 30, Loss: 35459142.4650\n",
      "Epoch 40, Loss: 35459142.4650\n",
      "Epoch 50, Loss: 35459142.4650\n",
      "Epoch 60, Loss: 35459142.4650\n",
      "Epoch 70, Loss: 35459142.4650\n",
      "Epoch 80, Loss: 35459142.4650\n",
      "Epoch 90, Loss: 35459142.4650\n",
      "Final Weights (w):\n",
      " [[ 4.64995660e-01 -2.55294714e+00]\n",
      " [-4.07545960e+06 -1.03832159e+08]]\n",
      "Final Output Weights (v):\n",
      " [-2.10217045e-01  1.21667919e+08]\n",
      "Final Loss: 35459142.4650\n"
     ]
    }
   ],
   "source": [
    "for epoch in range(epochs):\n",
    "    total_loss = 0\n",
    "    for i in range(len(X)):\n",
    "        x1, x2 = X[i]\n",
    "        target = Y[i]\n",
    "\n",
    "        h1 = relu(w[0,0] * x1 + w[0,1] * x2)\n",
    "        h2 = relu(w[1,0] * x1 + w[1,1] * x2)\n",
    "        f_x = v[0] * h1 + v[1] * h2\n",
    "\n",
    "        loss = (target - f_x)**2\n",
    "        total_loss += loss\n",
    "\n",
    "        grad_f_x = -2 * (target - f_x)\n",
    "\n",
    "        grad_v = np.arraygrad_v = np.array([grad_f_x * h1, grad_f_x * h2])\n",
    "        grad_h = np.array([grad_f_x * v[0], grad_f_x * v[1]])\n",
    "        \n",
    "        grad_w = np.zeros_like(w)\n",
    "        grad_w[0] = grad_h[0] * (h1 > 0) * np.array([x1, x2])\n",
    "        grad_w[1] = grad_h[1] * (h2 > 0) * np.array([x1, x2])\n",
    "        \n",
    "        v -= lr * grad_v\n",
    "        w -= lr * grad_w\n",
    "\n",
    "    if epoch % 10 == 0:\n",
    "                print(f\"Epoch {epoch}, Loss: {total_loss / len(X):.4f}\")\n",
    "\n",
    "print(\"Final Weights (w2):\\n\", w)\n",
    "print(\"Final Output Weights (w1):\\n\", v)\n",
    "print(f\"Final Loss: {total_loss / len(X):.4f}\")"
   ]
  },
  {
   "cell_type": "markdown",
   "metadata": {},
   "source": [
    "# Q4"
   ]
  },
  {
   "cell_type": "code",
   "execution_count": 53,
   "metadata": {},
   "outputs": [],
   "source": [
    "import pandas as pd\n",
    "import numpy as np\n",
    "from sklearn.model_selection import train_test_split\n",
    "from sklearn.linear_model import LinearRegression, Ridge\n",
    "from sklearn.neural_network import MLPRegressor\n",
    "from sklearn.metrics import mean_squared_error"
   ]
  },
  {
   "cell_type": "code",
   "execution_count": 55,
   "metadata": {},
   "outputs": [],
   "source": [
    "df = pd.read_csv(\"../HW3_train.csv\")\n",
    "df.fillna(df.median(), inplace=True)    # fill missing with median for now\n",
    "\n",
    "X = df.drop(columns=[\"car_id\", \"price\"])\n",
    "y = df[\"price\"]\n",
    "\n",
    "X_train, X_test, y_train, y_test = train_test_split(X, y, test_size=0.2, random_state=42)"
   ]
  },
  {
   "cell_type": "code",
   "execution_count": 56,
   "metadata": {},
   "outputs": [],
   "source": [
    "# Model 1: Linear Regression with X1, X5\n",
    "model1 = LinearRegression()\n",
    "model1.fit(X_train[[\"X1\", \"X5\"]], y_train)\n",
    "y_pred1 = model1.predict(X_test[[\"X1\", \"X5\"]])\n",
    "loss1 = mean_squared_error(y_test, y_pred1)\n",
    "\n",
    "# Model 2: Ridge Regression with X3, X9, X14\n",
    "model2 = Ridge(alpha=1.0)\n",
    "model2.fit(X_train[[\"X3\", \"X9\", \"X14\"]], y_train)\n",
    "y_pred2 = model2.predict(X_test[[\"X3\", \"X9\", \"X14\"]])\n",
    "loss2 = mean_squared_error(y_test, y_pred2)\n",
    "\n",
    "# Model 3: Neural Network (Simple MLP)\n",
    "model3 = MLPRegressor(hidden_layer_sizes=(10,), max_iter=500, random_state=42)\n",
    "model3.fit(X_train, y_train)\n",
    "y_pred3 = model3.predict(X_test)\n",
    "loss3 = mean_squared_error(y_test, y_pred3)\n",
    "\n",
    "# Model 4: Neural Network (Deeper MLP)\n",
    "model4 = MLPRegressor(hidden_layer_sizes=(50, 25), max_iter=1000, random_state=42)\n",
    "model4.fit(X_train, y_train)\n",
    "y_pred4 = model4.predict(X_test)\n",
    "loss4 = mean_squared_error(y_test, y_pred4)"
   ]
  },
  {
   "cell_type": "code",
   "execution_count": 57,
   "metadata": {},
   "outputs": [
    {
     "name": "stdout",
     "output_type": "stream",
     "text": [
      "Best Model: MLP (50,25 nodes)\n"
     ]
    }
   ],
   "source": [
    "losses = {\"Linear (X1, X5)\": loss1, \"Ridge (X3, X9, X14)\": loss2, \"MLP (10 nodes)\": loss3, \"MLP (50,25 nodes)\": loss4}\n",
    "best_model = min(losses, key=losses.get)\n",
    "print(\"Best Model:\", best_model)"
   ]
  },
  {
   "cell_type": "code",
   "execution_count": 60,
   "metadata": {},
   "outputs": [],
   "source": [
    "# Load future dataset\n",
    "future_df = pd.read_csv(\"../HW3_future.csv\")\n",
    "future_df.fillna(future_df.median(), inplace=True)\n",
    "\n",
    "# Apply best model\n",
    "if best_model == \"Linear (X1, X5)\":\n",
    "    predictions = model1.predict(future_df[[\"X1\", \"X5\"]])\n",
    "elif best_model == \"Ridge (X3, X9, X14)\":\n",
    "    predictions = model2.predict(future_df[[\"X3\", \"X9\", \"X14\"]])\n",
    "elif best_model == \"MLP (10 nodes)\":\n",
    "    predictions = model3.predict(future_df.drop(columns=[\"car_id\", 'price']))\n",
    "elif best_model == \"MLP (50,25 nodes)\":\n",
    "    predictions = model4.predict(future_df.drop(columns=[\"car_id\", 'price']))\n",
    "\n",
    "# Save predictions\n",
    "output_df = pd.DataFrame({\"car_id\": future_df[\"car_id\"], \"price\": predictions})\n",
    "output_df.to_csv(\"../HW3_output.csv\", index=False)"
   ]
  }
 ],
 "metadata": {
  "kernelspec": {
   "display_name": "Python 3",
   "language": "python",
   "name": "python3"
  },
  "language_info": {
   "codemirror_mode": {
    "name": "ipython",
    "version": 3
   },
   "file_extension": ".py",
   "mimetype": "text/x-python",
   "name": "python",
   "nbconvert_exporter": "python",
   "pygments_lexer": "ipython3",
   "version": "3.11.5"
  }
 },
 "nbformat": 4,
 "nbformat_minor": 2
}
