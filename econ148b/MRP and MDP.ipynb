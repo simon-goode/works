{
 "cells": [
  {
   "cell_type": "markdown",
   "metadata": {},
   "source": [
    "### Value function for the policy of always giving a promotion (page 8 of slides)"
   ]
  },
  {
   "cell_type": "code",
   "execution_count": 2,
   "metadata": {},
   "outputs": [
    {
     "name": "stdout",
     "output_type": "stream",
     "text": [
      "Value function:  [34.3 37.3]\n"
     ]
    }
   ],
   "source": [
    "import numpy as np\n",
    "\n",
    "# Define transition probability matrices P(s'|s,a) for each action\n",
    "P_a1 = np.array([[0.1, 0.9],    # Action a1: stay in state 1\n",
    "                 [0.1, 0.9]])   # Action a1: stay in state 2\n",
    "\n",
    "P_a2 = np.array([[0.5, 0.5],    # Action a2: move with some probability\n",
    "                 [0.5, 0.5]])\n",
    "\n",
    "# Define reward functions R(s, a)\n",
    "R_a1 = np.array([1, 4])         # Reward if taking action a1 in states 1 and 2\n",
    "R_a2 = np.array([2, 6])         # Reward if taking action a2 in states 1 and 2\n",
    "\n",
    "# Define a policy π(a|s) as a probability distribution over actions\n",
    "# The following policy tells us to always choose A=1\n",
    "policy = np.array([[1, 0],\n",
    "                  [1, 0]])\n",
    "\n",
    "# Compute MRP transition probability matrix in P_π\n",
    "P_pi = policy[:,0][:,None] * P_a1 + policy[:,1][:,None] * P_a2\n",
    "\n",
    "# Compute MRP reward vector R_π\n",
    "R_pi = policy[:,0] * R_a1 + policy[:,1] * R_a2\n",
    "\n",
    "# Discount factor\n",
    "gamma = 0.9\n",
    "\n",
    "# Identity matrix\n",
    "I = np.eye(2)\n",
    "\n",
    "# Solve for value function V using matrix inversion\n",
    "V = np.linalg.inv(I - gamma * P_pi).dot(R_pi)\n",
    "\n",
    "print(\"Value function: \", V)"
   ]
  },
  {
   "cell_type": "markdown",
   "metadata": {},
   "source": [
    "### Let's compute the optimal value function and the optimal policy for this problem"
   ]
  },
  {
   "cell_type": "code",
   "execution_count": 1,
   "metadata": {},
   "outputs": [
    {
     "name": "stdout",
     "output_type": "stream",
     "text": [
      "Final value function: [39.779405966335, 43.45587686055068]  giving V(1) and V(2)\n",
      "Optimal policy: {1: 1, 2: 2}\n"
     ]
    }
   ],
   "source": [
    "import numpy as np\n",
    "import matplotlib.pyplot as plt\n",
    "\n",
    "# Given transition probabilities and rewards\n",
    "P_a1 = np.array([[0.1, 0.9], [0.1, 0.9]])\n",
    "P_a2 = np.array([[0.5, 0.5], [0.5, 0.5]])\n",
    "R_a1 = np.array([1, 4])\n",
    "R_a2 = np.array([2, 6])\n",
    "\n",
    "gamma = 0.9\n",
    "theta = 1e-6\n",
    "states = [1, 2]\n",
    "actions = [1, 2]\n",
    "\n",
    "# Initialize value function\n",
    "V = {1: 0, 2: 0}\n",
    "policy = {1: 0, 2: 0}\n",
    "l = []\n",
    "\n",
    "while True:\n",
    "    delta = 0\n",
    "    value = V.copy()\n",
    "    for s in states:\n",
    "        av = []\n",
    "        for a, P_a, R_a in zip(actions, [P_a1, P_a2], [R_a1, R_a2]):\n",
    "            value = sum(P_a[s-1, s_next-1] * (R_a[s-1] + gamma * V[s_next]) for s_next in states)\n",
    "            av.append(value)\n",
    "        \n",
    "        best_av = max(av)\n",
    "        delta = max(delta, abs(best_av - V[s]))\n",
    "        V[s] = best_av\n",
    "        policy[s] = actions[np.argmax(av)]\n",
    "    \n",
    "    l.append(list(V.values()))\n",
    "    if delta < theta:\n",
    "        break;\n",
    "\n",
    "final = list(V.values())\n",
    "print(\"Final value function:\", final, \" giving V(1) and V(2)\")\n",
    "print(\"Optimal policy:\", policy)"
   ]
  },
  {
   "cell_type": "code",
   "execution_count": 2,
   "metadata": {},
   "outputs": [
    {
     "data": {
      "image/png": "[encoded data removed]",
      "text/plain": [
       "<Figure size 640x480 with 1 Axes>"
      ]
     },
     "metadata": {},
     "output_type": "display_data"
    }
   ],
   "source": [
    "l = np.array(l)\n",
    "\n",
    "plt.figure()\n",
    "plt.plot(l[:,0], label=\"State 1\")\n",
    "plt.plot(l[:,1], label=\"State 2\")\n",
    "plt.xlabel(\"Iteration\")\n",
    "plt.ylabel(\"Value\")\n",
    "plt.title(\"Value Function Convergence\")\n",
    "plt.legend()\n",
    "plt.show()"
   ]
  },
  {
   "cell_type": "markdown",
   "metadata": {},
   "source": [
    "### HW1 - Problem 4"
   ]
  },
  {
   "cell_type": "code",
   "execution_count": 14,
   "metadata": {},
   "outputs": [
    {
     "name": "stdout",
     "output_type": "stream",
     "text": [
      "[[0.4 0.6]\n",
      " [0.7 0.3]]\n",
      "[1 4]\n",
      "Value function:  [22.75590551 25.11811024]\n"
     ]
    }
   ],
   "source": [
    "# Question 4a\n",
    "import numpy as np\n",
    "\n",
    "# Define transition probability matrices P(s'|s,a) for each action\n",
    "P_a1 = np.array([[0.4, 0.6],    # Action a1: stay in state 0\n",
    "                 [0.7, 0.3]])\n",
    "\n",
    "P_a2 = np.array([[0.4, 0.6],    # Action a2: move with some probability\n",
    "                 [0.7, 0.3]])\n",
    "\n",
    "# Define reward functions R(s, a)\n",
    "R_a1 = np.array([1, 4])         # Reward if taking action D in states 0 and 1\n",
    "R_a2 = np.array([3, 2])         # Reward if taking action F in states 0 and 1\n",
    "\n",
    "# Define a policy π(a|s) as a probability distribution over actions\n",
    "# The following policy tells us to always choose A=D\n",
    "policy = np.array([[1, 0],\n",
    "                  [1, 0]])\n",
    "\n",
    "# Compute MRP transition probability matrix in P_π\n",
    "P_pi = policy[:,0][:,None] * P_a1 + policy[:,1][:,None] * P_a2\n",
    "print(P_pi)\n",
    "\n",
    "# Compute MRP reward vector R_π\n",
    "R_pi = policy[:,0] * R_a1 + policy[:,1] * R_a2\n",
    "print(R_pi)\n",
    "\n",
    "# Discount factor\n",
    "gamma = 0.9\n",
    "\n",
    "# Identity matrix\n",
    "I = np.eye(2)\n",
    "\n",
    "# Solve for value function V using matrix inversion\n",
    "V = np.linalg.inv(I - gamma * P_pi).dot(R_pi)\n",
    "\n",
    "print(\"Value function: \", V)"
   ]
  },
  {
   "cell_type": "code",
   "execution_count": 4,
   "metadata": {},
   "outputs": [
    {
     "name": "stdout",
     "output_type": "stream",
     "text": [
      "Final value function: [33.69862313427843, 35.06848663854859]  giving V(0) and V(1)\n",
      "Optimal policy: {0: 'F', 1: 'D'}\n"
     ]
    }
   ],
   "source": [
    "# Question 4b\n",
    "import numpy as np\n",
    "\n",
    "# Given transition probabilities and rewards\n",
    "P_a1 = np.array([[0.4, 0.6], [0.4, 0.6]])\n",
    "P_a2 = np.array([[0.7, 0.3], [0.7, 0.3]])\n",
    "R_a1 = np.array([1, 4])\n",
    "R_a2 = np.array([3, 2])\n",
    "\n",
    "gamma = 0.9\n",
    "theta = 1e-6\n",
    "states = [0, 1]\n",
    "actions = ['D', 'F']\n",
    "\n",
    "# Initialize value function\n",
    "V = {0: 0, 1: 0}\n",
    "policy = {0: 'D', 1: 'F'}\n",
    "l = []\n",
    "\n",
    "while True:\n",
    "    delta = 0\n",
    "    value = V.copy()\n",
    "    for s in states:\n",
    "        av = []\n",
    "        for a, P_a, R_a in zip(actions, [P_a1, P_a2], [R_a1, R_a2]):\n",
    "            value = sum(P_a[s, s_next] * (R_a[s] + gamma * V[s_next]) for s_next in states)\n",
    "            av.append(value)\n",
    "        \n",
    "        best_av = max(av)\n",
    "        delta = max(delta, abs(best_av - V[s]))\n",
    "        V[s] = best_av\n",
    "        policy[s] = actions[np.argmax(av)]\n",
    "    \n",
    "    l.append(list(V.values()))\n",
    "    if delta < theta:\n",
    "        break;\n",
    "\n",
    "final = list(V.values())\n",
    "print(\"Final value function:\", final, \" giving V(0) and V(1)\")\n",
    "print(\"Optimal policy:\", policy)"
   ]
  }
 ],
 "metadata": {
  "kernelspec": {
   "display_name": "Python 3",
   "language": "python",
   "name": "python3"
  },
  "language_info": {
   "codemirror_mode": {
    "name": "ipython",
    "version": 3
   },
   "file_extension": ".py",
   "mimetype": "text/x-python",
   "name": "python",
   "nbconvert_exporter": "python",
   "pygments_lexer": "ipython3",
   "version": "3.11.5"
  }
 },
 "nbformat": 4,
 "nbformat_minor": 2
}
