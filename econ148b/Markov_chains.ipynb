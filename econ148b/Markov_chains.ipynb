{
  "cells": [
    {
      "cell_type": "markdown",
      "metadata": {
        "id": "hPbyogepaoE7"
      },
      "source": [
        "# Generate a Markov chain"
      ]
    },
    {
      "cell_type": "code",
      "execution_count": 1,
      "metadata": {
        "colab": {
          "base_uri": "https://localhost:8080/"
        },
        "id": "sKAkYUz1aixC",
        "outputId": "5d5e747d-cbd0-4b6b-cc38-889f7a68d985"
      },
      "outputs": [
        {
          "data": {
            "text/plain": [
              "['sun',\n",
              " 'rain',\n",
              " 'sun',\n",
              " 'rain',\n",
              " 'sun',\n",
              " 'sun',\n",
              " 'sun',\n",
              " 'sun',\n",
              " 'sun',\n",
              " 'sun',\n",
              " 'rain']"
            ]
          },
          "execution_count": 1,
          "metadata": {},
          "output_type": "execute_result"
        }
      ],
      "source": [
        "import numpy as np\n",
        "\n",
        "# Define the states\n",
        "states = [\"sun\", \"rain\"]\n",
        "\n",
        "# Define the transition probabilities\n",
        "# Transition matrix:\n",
        "#       sun  rain\n",
        "# sun   0.7  0.3\n",
        "# rain  0.4  0.6\n",
        "\n",
        "transition_matrix = np.array([\n",
        "    [0.7, 0.3],\n",
        "    [0.4, 0.6]\n",
        "])\n",
        "\n",
        "# Check if the matrix is stochastic\n",
        "row_sums = np.sum(transition_matrix, axis=1)\n",
        "if not np.allclose(row_sums, 1):\n",
        "    print(\"Warning: Transition matrix is not stochastic (rows don't sum to 1).\")\n",
        "\n",
        "# Function to simulate the Markov chain\n",
        "def simulate_markov_chain(transition_matrix, initial_state, num_steps):\n",
        "    current_state_index = states.index(initial_state)  # Convert state name to index\n",
        "    states_history = [initial_state]\n",
        "    for _ in range(num_steps):\n",
        "        next_state_index = np.random.choice(len(transition_matrix), p=transition_matrix[current_state_index, :])\n",
        "        states_history.append(states[next_state_index])  # Convert index back to state name\n",
        "        current_state_index = next_state_index\n",
        "    return states_history\n",
        "\n",
        "# Example usage\n",
        "initial_state = \"sun\"  # Start in state \"sun\"\n",
        "num_steps = 10\n",
        "simulated_states = simulate_markov_chain(transition_matrix, initial_state, num_steps)\n",
        "simulated_states"
      ]
    },
    {
      "cell_type": "markdown",
      "metadata": {
        "id": "kfvS8-m9cafX"
      },
      "source": [
        "# Stationary distribution: transition probability multiple steps ahead"
      ]
    },
    {
      "cell_type": "code",
      "execution_count": 2,
      "metadata": {
        "colab": {
          "base_uri": "https://localhost:8080/"
        },
        "id": "DY84PeFQanWg",
        "outputId": "56818d2f-fe8b-44eb-c67a-68f7c73a36f3"
      },
      "outputs": [
        {
          "data": {
            "text/plain": [
              "array([[0.5714311, 0.4285689],\n",
              "       [0.5714252, 0.4285748]])"
            ]
          },
          "execution_count": 2,
          "metadata": {},
          "output_type": "execute_result"
        }
      ],
      "source": [
        "P=transition_matrix\n",
        "P @ P @ P @ P @ P @ P @ P @ P @ P @ P"
      ]
    },
    {
      "cell_type": "markdown",
      "metadata": {
        "id": "85vxAvk0dSCe"
      },
      "source": [
        "# Computing the stationary distribution from the   transition probability matrix\n"
      ]
    },
    {
      "cell_type": "code",
      "execution_count": 3,
      "metadata": {
        "colab": {
          "base_uri": "https://localhost:8080/"
        },
        "id": "E599IgCycl6Z",
        "outputId": "3b5c167a-ace3-4fb7-a6ee-4d9cd5ba6711"
      },
      "outputs": [
        {
          "name": "stdout",
          "output_type": "stream",
          "text": [
            "Stationary Distribution: [0.57142857 0.42857143]\n"
          ]
        }
      ],
      "source": [
        "import numpy as np\n",
        "\n",
        "# Define the transition matrix (replace with your actual matrix)\n",
        "transition_matrix = np.array([\n",
        "    [0.7, 0.3],\n",
        "    [0.4, 0.6]\n",
        "])\n",
        "\n",
        "# Number of states\n",
        "num_states = transition_matrix.shape[0]\n",
        "\n",
        "# Create the augmented matrix for the linear equations\n",
        "# The equations are:\n",
        "# pi * P = pi\n",
        "# pi_1 + pi_2 + ... + pi_n = 1\n",
        "\n",
        "# Equation pi * P = pi leads to (P - I) * pi = 0\n",
        "# We replace one equation with pi_1 + pi_2 + ... + pi_n = 1\n",
        "\n",
        "A = transition_matrix.T - np.identity(num_states)\n",
        "A[-1,:] = np.ones(num_states)\n",
        "b = np.zeros(num_states)\n",
        "b[-1] = 1\n",
        "\n",
        "# Solve the linear system of equations\n",
        "stationary_distribution = np.linalg.solve(A, b)\n",
        "\n",
        "print(\"Stationary Distribution:\", stationary_distribution)"
      ]
    },
    {
      "cell_type": "code",
      "execution_count": 1,
      "metadata": {},
      "outputs": [
        {
          "data": {
            "image/png": "[encoded data removed]",
            "text/plain": [
              "<Figure size 640x480 with 1 Axes>"
            ]
          },
          "metadata": {},
          "output_type": "display_data"
        }
      ],
      "source": [
        "import numpy as np\n",
        "\n",
        "transition_matrix = np.array([\n",
        "    [0.2, 0.8],\n",
        "    [0.4, 0.6]\n",
        "])\n",
        "\n",
        "a = []\n",
        "b = []\n",
        "c = []\n",
        "d = []\n",
        "\n",
        "num_iter = 5\n",
        "\n",
        "import matplotlib.pyplot as plt\n",
        "\n",
        "P = transition_matrix.copy()\n",
        "\n",
        "for i in range(num_iter):\n",
        "    a.append(P[0, 0])\n",
        "    b.append(P[0, 1])\n",
        "    c.append(P[1, 0])\n",
        "    d.append(P[1, 1])\n",
        "    P = P @ transition_matrix\n",
        "\n",
        "plt.plot(a)\n",
        "plt.plot(b)\n",
        "plt.plot(c)\n",
        "plt.plot(d)\n",
        "plt.show()"
      ]
    },
    {
      "cell_type": "markdown",
      "metadata": {},
      "source": [
        "### HW1 - Problem 3"
      ]
    },
    {
      "cell_type": "code",
      "execution_count": 2,
      "metadata": {},
      "outputs": [
        {
          "name": "stdout",
          "output_type": "stream",
          "text": [
            "Stationary Distribution: [0.33333333 0.66666667]\n"
          ]
        }
      ],
      "source": [
        "import numpy as np\n",
        "\n",
        "# Define the states\n",
        "states = [\"sun\", \"rain\"]\n",
        "\n",
        "# Define the transition probabilities\n",
        "# Transition matrix:\n",
        "#       sun  rain\n",
        "# sun   0.7  0.3\n",
        "# rain  0.4  0.6\n",
        "\n",
        "transition_matrix = np.array([\n",
        "    [0.2, 0.8],\n",
        "    [0.4, 0.6]\n",
        "])\n",
        "\n",
        "num_states = transition_matrix.shape[0]\n",
        "\n",
        "A = transition_matrix.T - np.identity(num_states)\n",
        "A[-1,:] = np.ones(num_states)\n",
        "b = np.zeros(num_states)\n",
        "b[-1] = 1\n",
        "\n",
        "# Solve the linear system of equations\n",
        "stationary_distribution = np.linalg.solve(A, b)\n",
        "\n",
        "print(\"Stationary Distribution:\", stationary_distribution)"
      ]
    }
  ],
  "metadata": {
    "colab": {
      "provenance": []
    },
    "kernelspec": {
      "display_name": "Python 3",
      "name": "python3"
    },
    "language_info": {
      "codemirror_mode": {
        "name": "ipython",
        "version": 3
      },
      "file_extension": ".py",
      "mimetype": "text/x-python",
      "name": "python",
      "nbconvert_exporter": "python",
      "pygments_lexer": "ipython3",
      "version": "3.11.5"
    }
  },
  "nbformat": 4,
  "nbformat_minor": 0
}
